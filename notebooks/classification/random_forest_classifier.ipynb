{
 "cells": [
  {
   "cell_type": "markdown",
   "id": "4652d89a-7643-4599-97f0-060ab894ff8c",
   "metadata": {},
   "source": [
    "# Ensaio de Machine Learning #"
   ]
  },
  {
   "cell_type": "markdown",
   "id": "0868b349-3095-4b3f-a9f1-7fa68467d6f0",
   "metadata": {},
   "source": [
    "## 0.0 Import libraries ##"
   ]
  },
  {
   "cell_type": "code",
   "execution_count": 62,
   "id": "6c140357-7c68-4f35-86cd-d7ac56ec8648",
   "metadata": {},
   "outputs": [],
   "source": [
    "import pandas as pd\n",
    "import numpy as np\n",
    "from sklearn.ensemble import RandomForestClassifier \n",
    "from sklearn import metrics as mt"
   ]
  },
  {
   "cell_type": "markdown",
   "id": "b4566da4-2d94-4a49-be2e-c1faf936f4cd",
   "metadata": {},
   "source": [
    "## 1.0 load dataset ##"
   ]
  },
  {
   "cell_type": "code",
   "execution_count": 65,
   "id": "7a160540-f8c0-4777-81f2-a163244e1379",
   "metadata": {},
   "outputs": [],
   "source": [
    "x_train = pd.read_csv('../../dataset/classification/X_training.csv')\n",
    "y_train = pd.read_csv('../../dataset/classification/Y_training.csv')\n",
    "x_val = pd.read_csv('../../dataset/classification/X_validation.csv')\n",
    "y_val = pd.read_csv('../../dataset/classification/y_validation.csv')\n",
    "x_test = pd.read_csv('../../dataset/classification/X_test.csv')\n",
    "y_test = pd.read_csv('../../dataset/classification/y_test.csv')"
   ]
  },
  {
   "cell_type": "markdown",
   "id": "bfde0dac-5a7e-4b58-afd8-de6cbf009860",
   "metadata": {},
   "source": [
    "## 2.0 Training Model ##"
   ]
  },
  {
   "cell_type": "code",
   "execution_count": 67,
   "id": "102e5824-1ef4-4ae8-8bc2-32e6c7ecdf20",
   "metadata": {},
   "outputs": [],
   "source": [
    "y_train = y_train.values.ravel()\n",
    "y_val = y_val.values.ravel()"
   ]
  },
  {
   "cell_type": "markdown",
   "id": "f0a8f480-ce71-4e76-9dad-0c29d8d7dfa4",
   "metadata": {},
   "source": [
    "## Dados de treino ##"
   ]
  },
  {
   "cell_type": "code",
   "execution_count": 71,
   "id": "16c7072c-2892-4914-83d9-e3ce967331ba",
   "metadata": {},
   "outputs": [
    {
     "name": "stdout",
     "output_type": "stream",
     "text": [
      "Max Accuracy: 0.999972419499414\n",
      "Max Precision = 1.0\n",
      "Max Recall = 0.9999363624793178\n",
      "Max f1-score = 0.9999681802271931\n"
     ]
    }
   ],
   "source": [
    "k_list = np.arange(2, 41, 1)\n",
    "acc_list = []\n",
    "pre_list = []\n",
    "rec_list = []\n",
    "f1_list = []\n",
    "max_acc = 0\n",
    "max_pre = 0\n",
    "max_rec = 0\n",
    "max_f1 = 0\n",
    "\n",
    "\n",
    "for i in k_list:\n",
    "    # definition\n",
    "    model = RandomForestClassifier(n_estimators=50, \n",
    "                                    max_depth=i)\n",
    "    # fit\n",
    "    model.fit( x_train, y_train )\n",
    "\n",
    "    # performance\n",
    "    y_pred = model.predict( x_train )\n",
    "\n",
    "   # accuracy\n",
    "    acc = mt.accuracy_score(y_train, y_pred)\n",
    "    acc_list.append( acc )\n",
    "    if acc > max_acc:\n",
    "        max_acc = acc\n",
    "   \n",
    "   # precision\n",
    "    pre = mt.precision_score( y_train, y_pred)\n",
    "    pre_list.append( pre )\n",
    "    if pre > max_pre:\n",
    "        max_pre = pre\n",
    "\n",
    "    # recall\n",
    "    rec = mt.recall_score( y_train, y_pred)\n",
    "    rec_list.append( rec )\n",
    "    if rec > max_rec:\n",
    "        max_rec = rec\n",
    "    \n",
    "    # f1-score\n",
    "    f1 = mt.f1_score( y_train, y_pred)\n",
    "    f1_list.append( f1 )\n",
    "    if f1 > max_f1:\n",
    "        max_f1 = f1\n",
    "\n",
    "print('Max Accuracy: {}'.format(max_acc))\n",
    "print( 'Max Precision = {}'.format( max_pre ))\n",
    "print( 'Max Recall = {}'.format( max_rec ))\n",
    "print( 'Max f1-score = {}'.format( max_f1 ))"
   ]
  },
  {
   "cell_type": "markdown",
   "id": "ef31382c-a3f5-499f-a550-4e38a7f59687",
   "metadata": {},
   "source": [
    "## Dados de validação ##"
   ]
  },
  {
   "cell_type": "code",
   "execution_count": 44,
   "id": "519dd2de-40b3-4eb8-a603-623cdab3303e",
   "metadata": {},
   "outputs": [
    {
     "name": "stdout",
     "output_type": "stream",
     "text": [
      "Accuracy = 0.9635766916567458\n",
      "Precision = 0.9734438560135084\n",
      "Recall = 0.941643774593511\n",
      "F1-score = 0.957279794701487\n"
     ]
    }
   ],
   "source": [
    "# Retreinando o modelo com o melhor parâmetro sobre os dados de validação\n",
    "m = np.arange( 2, 41, 1)\n",
    "best_m = acc_list.index( max ( acc_list ) )\n",
    "\n",
    "# model definition\n",
    "model = model = RandomForestClassifier(n_estimators=50, \n",
    "                                        max_depth=m[best_m] )\n",
    "\n",
    "# model training\n",
    "model.fit ( x_train, y_train )\n",
    "\n",
    "# model performance\n",
    "yhat_val = model.predict( x_val)\n",
    "\n",
    "# accuracy\n",
    "acc_val = mt.accuracy_score ( y_val, yhat_val)\n",
    "print( 'Accuracy = {}'.format ( acc_val ))\n",
    "\n",
    "# precision\n",
    "precision_val = mt.precision_score( y_val, yhat_val)\n",
    "print( 'Precision = {}'.format( precision_val ))\n",
    "    \n",
    "# recall\n",
    "recall_val = mt.recall_score( y_val, yhat_val)\n",
    "print( 'Recall = {}'.format( recall_val ))\n",
    "    \n",
    "# f1-score\n",
    "f1_score_val = mt.f1_score( y_val, yhat_val)\n",
    "print( 'F1-score = {}'.format( f1_score_val ))"
   ]
  },
  {
   "cell_type": "markdown",
   "id": "d36f2efb-2c4b-4115-9043-f5cc4d870f75",
   "metadata": {},
   "source": [
    "## Dados de teste ##"
   ]
  },
  {
   "cell_type": "code",
   "execution_count": 50,
   "id": "0d46a694-bd38-47b0-b4ca-07343198a35c",
   "metadata": {},
   "outputs": [
    {
     "name": "stderr",
     "output_type": "stream",
     "text": [
      "C:\\Users\\uemer\\anaconda3\\lib\\site-packages\\sklearn\\base.py:443: UserWarning: X has feature names, but RandomForestClassifier was fitted without feature names\n",
      "  warnings.warn(\n"
     ]
    },
    {
     "name": "stdout",
     "output_type": "stream",
     "text": [
      "Accuracy = 0.9649712277449504\n",
      "Precision = 0.9743287373004355\n",
      "Recall = 0.945094588649362\n",
      "F1-score = 0.9594890347938719\n"
     ]
    }
   ],
   "source": [
    "# Retreinando o modelo com o melhor parâmetro sobre os dados de teste\n",
    "best_m = acc_list.index( max ( acc_list ) )\n",
    "\n",
    "# model definition\n",
    "model = RandomForestClassifier(n_estimators=50, \n",
    "                                        max_depth=m[best_m] )\n",
    "\n",
    "# model training\n",
    "model.fit(np.concatenate( (x_train, x_val) ),\n",
    "          np.concatenate( (y_train, y_val) ) )\n",
    "\n",
    "# model performance\n",
    "y_pred = model.predict( x_test )\n",
    "\n",
    "# accuracy\n",
    "acc_test = mt.accuracy_score ( y_test, y_pred)\n",
    "print( 'Accuracy = {}'.format ( acc_test ))\n",
    "\n",
    "# precision\n",
    "precision_test = mt.precision_score( y_test, y_pred)\n",
    "print( 'Precision = {}'.format( precision_test ))\n",
    "    \n",
    "# recall\n",
    "recall_test = mt.recall_score( y_test, y_pred)\n",
    "print( 'Recall = {}'.format( recall_test ))\n",
    "    \n",
    "# f1-score\n",
    "f1_score_test = mt.f1_score( y_test, y_pred)\n",
    "print( 'F1-score = {}'.format( f1_score_test ))"
   ]
  },
  {
   "cell_type": "code",
   "execution_count": null,
   "id": "0cd03c2e-e661-466f-917c-c5aa31345e47",
   "metadata": {},
   "outputs": [],
   "source": []
  }
 ],
 "metadata": {
  "kernelspec": {
   "display_name": "Python 3 (ipykernel)",
   "language": "python",
   "name": "python3"
  },
  "language_info": {
   "codemirror_mode": {
    "name": "ipython",
    "version": 3
   },
   "file_extension": ".py",
   "mimetype": "text/x-python",
   "name": "python",
   "nbconvert_exporter": "python",
   "pygments_lexer": "ipython3",
   "version": "3.9.13"
  }
 },
 "nbformat": 4,
 "nbformat_minor": 5
}
