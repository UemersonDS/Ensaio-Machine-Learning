{
 "cells": [
  {
   "cell_type": "markdown",
   "id": "ef251447-bdfa-413b-8a00-ffed1ab815de",
   "metadata": {},
   "source": [
    "# Ensaio de Machine Learning #"
   ]
  },
  {
   "cell_type": "markdown",
   "id": "ed2e525f-7f35-4f1b-a40c-7309d0373a59",
   "metadata": {},
   "source": [
    "## 0.0 Import libraries ##"
   ]
  },
  {
   "cell_type": "code",
   "execution_count": 69,
   "id": "0e0fc140-5e72-4ce6-9077-fea2a429d44b",
   "metadata": {},
   "outputs": [],
   "source": [
    "import pandas as pd\n",
    "import numpy as np\n",
    "from matplotlib import pyplot as plt\n",
    "from sklearn    import tree   as tr\n",
    "from sklearn    import metrics as mt"
   ]
  },
  {
   "cell_type": "markdown",
   "id": "931e389c-debf-431e-b1b5-290fb703a519",
   "metadata": {},
   "source": [
    "## 1.0 load dataset ##"
   ]
  },
  {
   "cell_type": "code",
   "execution_count": 27,
   "id": "d3f7454e-85ae-4dd7-ba89-0ebb48e1797a",
   "metadata": {},
   "outputs": [],
   "source": [
    "x_train = pd.read_csv('../../dataset/classification/X_training.csv')\n",
    "y_train = pd.read_csv('../../dataset/classification/Y_training.csv')\n",
    "x_val = pd.read_csv('../../dataset/classification/X_validation.csv')\n",
    "y_val = pd.read_csv('../../dataset/classification/y_validation.csv')\n",
    "x_test = pd.read_csv('../../dataset/classification/X_test.csv')\n",
    "y_test = pd.read_csv('../../dataset/classification/y_test.csv')"
   ]
  },
  {
   "cell_type": "markdown",
   "id": "b49efed9-a91b-42a3-8582-c8fad0b1202d",
   "metadata": {},
   "source": [
    "## 2.0 Training Model ##"
   ]
  },
  {
   "cell_type": "code",
   "execution_count": 30,
   "id": "4b47eae1-c6e6-4fc9-bae4-e19540fb6846",
   "metadata": {},
   "outputs": [],
   "source": [
    "y_train = y_train.values.ravel()\n",
    "y_val = y_val.values.ravel()"
   ]
  },
  {
   "cell_type": "markdown",
   "id": "1e4e4d8d-fb70-40c2-96a3-e21a9b86b623",
   "metadata": {},
   "source": [
    "## Dados de treinamento ##"
   ]
  },
  {
   "cell_type": "code",
   "execution_count": null,
   "id": "de1d9a2a-4ce0-4c88-ba23-3cf128980bbc",
   "metadata": {},
   "outputs": [],
   "source": [
    "m = np.arange( 2, 60, 1)\n",
    "acc_list = []\n",
    "precision_list = []\n",
    "rec_list = []\n",
    "f1_list = []\n",
    "\n",
    "for i in m:\n",
    "    # model definition\n",
    "    model = tr.DecisionTreeClassifier( max_depth=i )\n",
    "\n",
    "    # model training\n",
    "    model.fit ( x_train, y_train )\n",
    "    \n",
    "    # model performance\n",
    "    yhat_train = model.predict( x_train)\n",
    "\n",
    "    # accuracy\n",
    "    acc = mt.accuracy_score ( y_train, yhat_train)\n",
    "    print( 'Accuracy = {}'.format ( acc ))\n",
    "    acc_list.append( acc )\n",
    "\n",
    "    # precision\n",
    "    precision = mt.precision_score( y_train, yhat_train)\n",
    "    print( 'Precision = {}'.format( precision ))\n",
    "    precision_list.append( precision )\n",
    "    \n",
    "    # recall\n",
    "    recall = mt.recall_score( y_train, yhat_train)\n",
    "    print( 'Recall = {}'.format( recall ))\n",
    "    rec_list.append( recall )\n",
    "    \n",
    "    # f1-score\n",
    "    f1_score = mt.f1_score( y_train, yhat_train)\n",
    "    print( 'f1-score = {}'.format( f1_score ))\n",
    "    f1_list.append( f1_score )"
   ]
  },
  {
   "cell_type": "code",
   "execution_count": 46,
   "id": "04e94512-10bb-46ea-896c-2674b95c1523",
   "metadata": {},
   "outputs": [
    {
     "name": "stdout",
     "output_type": "stream",
     "text": [
      "Accuracy = 1.0\n",
      "Precision = 1.0\n",
      "Recall = 1.0\n",
      "f1-score = 1.0\n"
     ]
    }
   ],
   "source": [
    "# accuracy\n",
    "acc = mt.accuracy_score ( y_train, yhat_train)\n",
    "print( 'Accuracy = {}'.format ( acc ))\n",
    "\n",
    "# precision\n",
    "precision = mt.precision_score( y_train, yhat_train)\n",
    "print( 'Precision = {}'.format( precision ))\n",
    "   \n",
    "# recall\n",
    "recall = mt.recall_score( y_train, yhat_train)\n",
    "print( 'Recall = {}'.format( recall ))\n",
    " \n",
    "# f1-score\n",
    "f1_score = mt.f1_score( y_train, yhat_train)\n",
    "print( 'f1-score = {}'.format( f1_score ))"
   ]
  },
  {
   "cell_type": "code",
   "execution_count": 47,
   "id": "c5d3e584-8024-4d2f-b173-6ae05e533d93",
   "metadata": {},
   "outputs": [
    {
     "data": {
      "text/plain": [
       "[<matplotlib.lines.Line2D at 0x1d053ca81f0>]"
      ]
     },
     "execution_count": 47,
     "metadata": {},
     "output_type": "execute_result"
    },
    {
     "data": {
      "image/png": "[encoded data removed]",
      "text/plain": [
       "<Figure size 640x480 with 1 Axes>"
      ]
     },
     "metadata": {},
     "output_type": "display_data"
    }
   ],
   "source": [
    "plt.plot( m, acc_list, '-o')"
   ]
  },
  {
   "cell_type": "markdown",
   "id": "c6f2b61b-2938-4a44-baa7-778d9d91a1a9",
   "metadata": {},
   "source": [
    "## Dados de validação ##"
   ]
  },
  {
   "cell_type": "code",
   "execution_count": 55,
   "id": "4a91287c-8872-4e26-a5f4-9a3425b6bd14",
   "metadata": {},
   "outputs": [
    {
     "name": "stdout",
     "output_type": "stream",
     "text": [
      "Accuracy = 0.9454293896200007\n",
      "Precision = 0.9356175534670318\n",
      "Recall = 0.9386739921300765\n",
      "F1-score = 0.9371432807056557\n"
     ]
    }
   ],
   "source": [
    "# Retreinando o modelo com o melhor parâmetro sobre os dados de validação\n",
    "best_m = acc_list.index( max ( acc_list ) )\n",
    "\n",
    "# model definition\n",
    "model = tr.DecisionTreeClassifier( max_depth=m[best_m])\n",
    "\n",
    "# model training\n",
    "model.fit ( x_train, y_train )\n",
    "\n",
    "# model performance\n",
    "yhat_val = model.predict( x_val)\n",
    "\n",
    "# accuracy\n",
    "acc_val = mt.accuracy_score ( y_val, yhat_val)\n",
    "print( 'Accuracy = {}'.format ( acc_val ))\n",
    "\n",
    "# precision\n",
    "precision_val = mt.precision_score( y_val, yhat_val)\n",
    "print( 'Precision = {}'.format( precision_val ))\n",
    "    \n",
    "# recall\n",
    "recall_val = mt.recall_score( y_val, yhat_val)\n",
    "print( 'Recall = {}'.format( recall_val ))\n",
    "    \n",
    "# f1-score\n",
    "f1_score_val = mt.f1_score( y_val, yhat_val)\n",
    "print( 'F1-score = {}'.format( f1_score_val ))"
   ]
  },
  {
   "cell_type": "markdown",
   "id": "70952ef7-e367-47c4-96bf-bb4cba2800b9",
   "metadata": {},
   "source": [
    "## Dados de teste ##"
   ]
  },
  {
   "cell_type": "code",
   "execution_count": 60,
   "id": "35459405-8394-405f-8d19-9baa2ac6ba40",
   "metadata": {},
   "outputs": [
    {
     "name": "stdout",
     "output_type": "stream",
     "text": [
      "Accuracy = 0.9462402966052601\n",
      "Precision = 0.9374506535661022\n",
      "Recall = 0.9402551693796745\n",
      "F1-score = 0.9388508170795994\n"
     ]
    },
    {
     "name": "stderr",
     "output_type": "stream",
     "text": [
      "C:\\Users\\uemer\\anaconda3\\lib\\site-packages\\sklearn\\base.py:443: UserWarning: X has feature names, but DecisionTreeClassifier was fitted without feature names\n",
      "  warnings.warn(\n"
     ]
    }
   ],
   "source": [
    "# Retreinando o modelo com o melhor parâmetro sobre os dados de teste\n",
    "best_m = acc_list.index( max ( acc_list ) )\n",
    "\n",
    "# model definition\n",
    "model_tree = tr.DecisionTreeClassifier( max_depth=m[best_m])\n",
    "\n",
    "# model training\n",
    "model_tree.fit(np.concatenate( (x_train, x_val) ),\n",
    "               np.concatenate( (y_train, y_val) ) )\n",
    "\n",
    "# model performance\n",
    "y_pred = model_tree.predict( x_test )\n",
    "\n",
    "# accuracy\n",
    "acc_test = mt.accuracy_score ( y_test, y_pred)\n",
    "print( 'Accuracy = {}'.format ( acc_test ))\n",
    "\n",
    "# precision\n",
    "precision_test = mt.precision_score( y_test, y_pred)\n",
    "print( 'Precision = {}'.format( precision_test ))\n",
    "    \n",
    "# recall\n",
    "recall_test = mt.recall_score( y_test, y_pred)\n",
    "print( 'Recall = {}'.format( recall_test ))\n",
    "    \n",
    "# f1-score\n",
    "f1_score_test = mt.f1_score( y_test, y_pred)\n",
    "print( 'F1-score = {}'.format( f1_score_test ))"
   ]
  }
 ],
 "metadata": {
  "kernelspec": {
   "display_name": "Python 3 (ipykernel)",
   "language": "python",
   "name": "python3"
  },
  "language_info": {
   "codemirror_mode": {
    "name": "ipython",
    "version": 3
   },
   "file_extension": ".py",
   "mimetype": "text/x-python",
   "name": "python",
   "nbconvert_exporter": "python",
   "pygments_lexer": "ipython3",
   "version": "3.9.13"
  }
 },
 "nbformat": 4,
 "nbformat_minor": 5
}
