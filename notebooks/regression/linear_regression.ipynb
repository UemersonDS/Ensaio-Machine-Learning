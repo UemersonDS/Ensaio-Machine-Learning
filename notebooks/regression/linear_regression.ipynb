{
 "cells": [
  {
   "cell_type": "markdown",
   "metadata": {},
   "source": [
    "# Ensaio de Machine Learning #"
   ]
  },
  {
   "cell_type": "markdown",
   "metadata": {},
   "source": [
    "# 0.0 Import library"
   ]
  },
  {
   "cell_type": "code",
   "execution_count": 3,
   "metadata": {},
   "outputs": [],
   "source": [
    "import pandas               as pd\n",
    "import numpy                as np\n",
    "from sklearn import metrics as mt\n",
    "from sklearn.linear_model import LinearRegression"
   ]
  },
  {
   "cell_type": "markdown",
   "metadata": {},
   "source": [
    "## 1.0 Load dataset ##"
   ]
  },
  {
   "cell_type": "code",
   "execution_count": 7,
   "metadata": {},
   "outputs": [],
   "source": [
    "x_train = pd.read_csv( '../../dataset/regression/x_training.csv')\n",
    "y_train = pd.read_csv( '../../dataset/regression/y_training.csv')\n",
    "x_val = pd.read_csv( '../../dataset/regression/x_validation.csv')\n",
    "y_val = pd.read_csv( '../../dataset/regression/y_val.csv')\n",
    "x_test = pd.read_csv( '../../dataset/regression/x_test.csv')\n",
    "y_test = pd.read_csv( '../../dataset/regression/y_test.csv')"
   ]
  },
  {
   "cell_type": "markdown",
   "metadata": {},
   "source": [
    "## 2.0 Model training ##"
   ]
  },
  {
   "cell_type": "markdown",
   "metadata": {},
   "source": [
    "## Dados de treino"
   ]
  },
  {
   "cell_type": "code",
   "execution_count": 13,
   "metadata": {},
   "outputs": [
    {
     "name": "stdout",
     "output_type": "stream",
     "text": [
      "R2 square: 0.046\n",
      "MSE: 455.996\n",
      "RMSE: 21.35\n",
      "MAE: 17.0\n",
      "MAPE: 8.65%\n"
     ]
    }
   ],
   "source": [
    "# model definition\n",
    "lr = LinearRegression()\n",
    "\n",
    "# model fit\n",
    "lr.fit( x_train, y_train )\n",
    "\n",
    "# performance\n",
    "y_pred = lr.predict( x_train )\n",
    "\n",
    "# R squared\n",
    "r2_squared = np.round( mt.r2_score( y_train, y_pred ), 3 )\n",
    "print( 'R2 square: {}'.format( r2_squared ) )\n",
    "# MSE\n",
    "mse = np.round( mt.mean_squared_error( y_train, y_pred), 3 )\n",
    "print( 'MSE: {}'.format(mse) )\n",
    "# RMSE\n",
    "rmse = np.round(np.sqrt( mse ), 2)\n",
    "print('RMSE: {}'.format( rmse ) )\n",
    "# MAE\n",
    "mae = np.round(mt.mean_absolute_error( y_train, y_pred), 2)\n",
    "print('MAE: {}'.format( mae ) )\n",
    "# MAPE\n",
    "mape = np.round(mt.mean_absolute_percentage_error( y_train, y_pred), 2) \n",
    "print('MAPE: {}%'.format( mape ) )"
   ]
  },
  {
   "cell_type": "markdown",
   "metadata": {},
   "source": [
    "## Dados de validação ##"
   ]
  },
  {
   "cell_type": "code",
   "execution_count": 16,
   "metadata": {},
   "outputs": [
    {
     "name": "stdout",
     "output_type": "stream",
     "text": [
      "R2 square: 0.04\n",
      "MSE: 458.447\n",
      "RMSE: 21.41\n",
      "MAE: 17.04\n",
      "MAPE: 8.68%\n"
     ]
    }
   ],
   "source": [
    "# model definition\n",
    "lr = LinearRegression()\n",
    "\n",
    "# model fit\n",
    "lr.fit( x_train, y_train )\n",
    "\n",
    "# performance\n",
    "yhat_val = lr.predict( x_val )\n",
    "\n",
    "# R squared\n",
    "r2_squared = np.round( mt.r2_score( y_val, yhat_val ), 2 )\n",
    "print( 'R2 square: {}'.format( r2_squared ) )\n",
    "# MSE\n",
    "mse = np.round( mt.mean_squared_error( y_val, yhat_val), 3 )\n",
    "print( 'MSE: {}'.format(mse) )\n",
    "# RMSE\n",
    "rmse = np.round(np.sqrt( mse ), 2)\n",
    "print('RMSE: {}'.format( rmse ) )\n",
    "# MAE\n",
    "mae = np.round(mt.mean_absolute_error( y_val, yhat_val), 2)\n",
    "print('MAE: {}'.format( mae ) )\n",
    "# MAPE\n",
    "mape = np.round(mt.mean_absolute_percentage_error( y_val, yhat_val), 2) \n",
    "print('MAPE: {}%'.format( mape ) )"
   ]
  },
  {
   "cell_type": "markdown",
   "metadata": {},
   "source": [
    "## Dados de teste ##"
   ]
  },
  {
   "cell_type": "code",
   "execution_count": 20,
   "metadata": {},
   "outputs": [
    {
     "name": "stdout",
     "output_type": "stream",
     "text": [
      "R2 square: 0.05\n",
      "MSE: 461.988\n",
      "RMSE: 21.49\n",
      "MAE: 17.14\n",
      "MAPE: 8.53%\n"
     ]
    },
    {
     "name": "stderr",
     "output_type": "stream",
     "text": [
      "C:\\Users\\uemer\\anaconda3\\lib\\site-packages\\sklearn\\base.py:443: UserWarning: X has feature names, but LinearRegression was fitted without feature names\n",
      "  warnings.warn(\n"
     ]
    }
   ],
   "source": [
    "# model definition\n",
    "lr = LinearRegression()\n",
    "\n",
    "# model fit\n",
    "lr.fit( np.concatenate( ( x_train, x_val ) ),\n",
    "        np.concatenate( ( y_train, y_val ) ) ) \n",
    "\n",
    "# performance\n",
    "yhat_test = lr.predict( x_test )\n",
    "\n",
    "# R squared\n",
    "r2_squared = np.round( mt.r2_score( y_test, yhat_test ), 2 )\n",
    "print( 'R2 square: {}'.format( r2_squared ) )\n",
    "# MSE\n",
    "mse = np.round( mt.mean_squared_error( y_test, yhat_test ), 3 )\n",
    "print( 'MSE: {}'.format(mse) )\n",
    "# RMSE\n",
    "rmse = np.round(np.sqrt( mse ), 2)\n",
    "print('RMSE: {}'.format( rmse ) )\n",
    "# MAE\n",
    "mae = np.round(mt.mean_absolute_error( y_test, yhat_test ), 2)\n",
    "print('MAE: {}'.format( mae ) )\n",
    "# MAPE\n",
    "mape = np.round(mt.mean_absolute_percentage_error( y_test, yhat_test ), 2) \n",
    "print('MAPE: {}%'.format( mape ) )"
   ]
  }
 ],
 "metadata": {
  "kernelspec": {
   "display_name": "Python 3 (ipykernel)",
   "language": "python",
   "name": "python3"
  },
  "language_info": {
   "codemirror_mode": {
    "name": "ipython",
    "version": 3
   },
   "file_extension": ".py",
   "mimetype": "text/x-python",
   "name": "python",
   "nbconvert_exporter": "python",
   "pygments_lexer": "ipython3",
   "version": "3.9.13"
  }
 },
 "nbformat": 4,
 "nbformat_minor": 4
}
