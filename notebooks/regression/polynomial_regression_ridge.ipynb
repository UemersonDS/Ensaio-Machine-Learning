{
 "cells": [
  {
   "cell_type": "markdown",
   "metadata": {},
   "source": [
    "# Ensaio de Machine Learning #"
   ]
  },
  {
   "cell_type": "markdown",
   "metadata": {},
   "source": [
    "## 0.0 Import library ##"
   ]
  },
  {
   "cell_type": "code",
   "execution_count": 13,
   "metadata": {},
   "outputs": [],
   "source": [
    "import pandas                       as pd\n",
    "import numpy as np\n",
    "from sklearn import preprocessing   as pp\n",
    "from sklearn import linear_model    as lm\n",
    "from sklearn import metrics         as mt\n"
   ]
  },
  {
   "cell_type": "markdown",
   "metadata": {},
   "source": [
    "## 1.0 Load dataset ##"
   ]
  },
  {
   "cell_type": "code",
   "execution_count": 16,
   "metadata": {},
   "outputs": [],
   "source": [
    "x_train = pd.read_csv( '../../dataset/regression/x_training.csv')\n",
    "y_train = pd.read_csv( '../../dataset/regression/y_training.csv')\n",
    "x_val = pd.read_csv( '../../dataset/regression/x_validation.csv')\n",
    "y_val = pd.read_csv( '../../dataset/regression/y_val.csv')\n",
    "x_test = pd.read_csv( '../../dataset/regression/x_test.csv')\n",
    "y_test = pd.read_csv( '../../dataset/regression/y_test.csv')"
   ]
  },
  {
   "cell_type": "markdown",
   "metadata": {},
   "source": [
    "## 2.0 Training model ##"
   ]
  },
  {
   "cell_type": "markdown",
   "metadata": {},
   "source": [
    "## Dados de treino ##"
   ]
  },
  {
   "cell_type": "code",
   "execution_count": 20,
   "metadata": {},
   "outputs": [
    {
     "name": "stdout",
     "output_type": "stream",
     "text": [
      "degree 3 | alhpa 19 | MAX R2: 0.135 | MIN MSE: 413.4 | MIN RMSE: 20.332 | MIN MAE: 16.065 | MIN MAPE: 8.037 |\n"
     ]
    }
   ],
   "source": [
    "# Grau do polinômio\n",
    "d = np.arange( 1, 4)\n",
    "a = np.arange( 1, 20)\n",
    "rmse_list = []\n",
    "max_r2 = 0\n",
    "min_mse = float('inf')\n",
    "min_rmse = float('inf')\n",
    "min_mae = float('inf')\n",
    "min_mape = float('inf')\n",
    "\n",
    "for i in d:\n",
    "    for alpha in a:\n",
    "        # Define Polynomial Ridge\n",
    "        poly = pp.PolynomialFeatures( degree=i )\n",
    "        X_poly_train = poly.fit_transform( x_train )\n",
    "\n",
    "        # training\n",
    "        model = lm.Ridge(alpha=alpha, max_iter=1000)\n",
    "        model.fit( X_poly_train , y_train )\n",
    "\n",
    "        # performance\n",
    "        yhat_train = model.predict( X_poly_train )\n",
    "\n",
    "        # R squared\n",
    "        r_squared = np.round( mt.r2_score( y_train, yhat_train ), 3 )\n",
    "        if r_squared > max_r2:\n",
    "            max_r2 = r_squared\n",
    "        # MSE\n",
    "        mse = np.round(mt.mean_squared_error( y_train, yhat_train), 3)\n",
    "        if mse < min_mse:\n",
    "            min_mse = mse\n",
    "        # RMSE\n",
    "        rmse = np.round(np.sqrt( mse ), 3)\n",
    "        rmse_list.append( rmse )\n",
    "        if rmse < min_rmse:\n",
    "            min_rmse = rmse\n",
    "\n",
    "        # MAE\n",
    "        mae = np.round(mt.mean_absolute_error( y_train, yhat_train), 3)\n",
    "        if mae < min_mae:\n",
    "            min_mae = mae\n",
    "        # MAPE\n",
    "        mape = np.round(mt.mean_absolute_percentage_error( y_train, yhat_train), 3) \n",
    "        if mape < min_mape:\n",
    "            min_mape = mape\n",
    "    \n",
    "print('degree {} | alhpa {} | MAX R2: {} | MIN MSE: {} | MIN RMSE: {} | MIN MAE: {} | MIN MAPE: {} |'.format(i, alpha, max_r2, min_mse, min_rmse, min_mae, min_mape ) )"
   ]
  },
  {
   "cell_type": "markdown",
   "metadata": {},
   "source": [
    "## Dados de validação ##"
   ]
  },
  {
   "cell_type": "code",
   "execution_count": 23,
   "metadata": {},
   "outputs": [
    {
     "name": "stdout",
     "output_type": "stream",
     "text": [
      "degree 3 | alhpa 19 | MAX R2: 0.068 | MIN MSE: 445.184 | MIN RMSE: 21.099 | MIN MAE: 16.739 | MIN MAPE: 8.53 |\n"
     ]
    }
   ],
   "source": [
    "# Encontrando melhore parâmetros sobre os dados de validação\n",
    "\n",
    "# Grau do polinômio\n",
    "d = np.arange( 1, 4)\n",
    "a = np.arange( 1, 20)\n",
    "rmse_list = []\n",
    "max_r2 = 0\n",
    "min_mse = float('inf')\n",
    "min_rmse = float('inf')\n",
    "min_mae = float('inf')\n",
    "min_mape = float('inf')\n",
    "\n",
    "for i in d:\n",
    "    for alpha in a:\n",
    "        # Define Polynomial Ridge\n",
    "        poly = pp.PolynomialFeatures( degree=i )\n",
    "        X_poly_train = poly.fit_transform( x_train )\n",
    "        X_poly_val = poly.transform( x_val )\n",
    "\n",
    "        # training\n",
    "        model = lm.Ridge(alpha=alpha, max_iter=1000)\n",
    "        model.fit( X_poly_train , y_train )\n",
    "\n",
    "        # performance\n",
    "        yhat_val = model.predict( X_poly_val )\n",
    "\n",
    "        # R squared\n",
    "        r_squared = np.round( mt.r2_score( y_val, yhat_val ), 3 )\n",
    "        if r_squared > max_r2:\n",
    "            max_r2 = r_squared\n",
    "        # MSE\n",
    "        mse = np.round(mt.mean_squared_error( y_val, yhat_val), 3)\n",
    "        if mse < min_mse:\n",
    "            min_mse = mse\n",
    "        # RMSE\n",
    "        rmse = np.round(np.sqrt( mse ), 3)\n",
    "        rmse_list.append( rmse )\n",
    "        if rmse < min_rmse:\n",
    "            min_rmse = rmse\n",
    "\n",
    "        # MAE\n",
    "        mae = np.round(mt.mean_absolute_error( y_val, yhat_val), 3)\n",
    "        if mae < min_mae:\n",
    "            min_mae = mae\n",
    "        # MAPE\n",
    "        mape = np.round(mt.mean_absolute_percentage_error( y_val, yhat_val), 3) \n",
    "        if mape < min_mape:\n",
    "            min_mape = mape\n",
    "    \n",
    "print('degree {} | alhpa {} | MAX R2: {} | MIN MSE: {} | MIN RMSE: {} | MIN MAE: {} | MIN MAPE: {} |'.format(i, alpha, max_r2, min_mse, min_rmse, min_mae, min_mape ) )"
   ]
  },
  {
   "cell_type": "markdown",
   "metadata": {},
   "source": [
    "## Dados de teste ##"
   ]
  },
  {
   "cell_type": "code",
   "execution_count": 26,
   "metadata": {},
   "outputs": [
    {
     "name": "stdout",
     "output_type": "stream",
     "text": [
      "degree 3 | alhpa 19 | MAX R2: 0.09 | MIN MSE: 442.967 | MIN RMSE: 21.047 | MIN MAE: 16.706 | MIN MAPE: 8.147 |\n"
     ]
    }
   ],
   "source": [
    "# Encontrando melhore parâmetros sobre os dados de teste\n",
    "\n",
    "# Grau do polinômio\n",
    "d = np.arange( 1, 4)\n",
    "a = np.arange( 1, 20)\n",
    "rmse_list = []\n",
    "max_r2 = 0\n",
    "min_mse = float('inf')\n",
    "min_rmse = float('inf')\n",
    "min_mae = float('inf')\n",
    "min_mape = float('inf')\n",
    "\n",
    "for i in d:\n",
    "    for alpha in a:\n",
    "        # Define Polynomial Ridge\n",
    "        poly = pp.PolynomialFeatures( degree=i )\n",
    "        X_poly_train = poly.fit_transform( x_train )\n",
    "        X_poly_val = poly.transform( x_val )\n",
    "        X_poly_test = poly.transform( x_test )\n",
    "        \n",
    "        # Concatenando os dados de treino e validação\n",
    "        X_train_val = np.concatenate((X_poly_train, X_poly_val))\n",
    "        y_train_val = np.concatenate((y_train, y_val))\n",
    "\n",
    "        # training\n",
    "        model = lm.Ridge(alpha=alpha, max_iter=1000)\n",
    "        model.fit( X_train_val, y_train_val )\n",
    "\n",
    "        # performance\n",
    "        y_pred_test = model.predict( X_poly_test )\n",
    "\n",
    "        # R squared\n",
    "        r_squared = np.round( mt.r2_score( y_test, y_pred_test ), 3 )\n",
    "        if r_squared > max_r2:\n",
    "            max_r2 = r_squared\n",
    "        # MSE\n",
    "        mse = np.round(mt.mean_squared_error( y_test, y_pred_test), 3)\n",
    "        if mse < min_mse:\n",
    "            min_mse = mse\n",
    "        # RMSE\n",
    "        rmse = np.round(np.sqrt( mse ), 3)\n",
    "        rmse_list.append( rmse )\n",
    "        if rmse < min_rmse:\n",
    "            min_rmse = rmse\n",
    "\n",
    "        # MAE\n",
    "        mae = np.round(mt.mean_absolute_error( y_test, y_pred_test), 3)\n",
    "        if mae < min_mae:\n",
    "            min_mae = mae\n",
    "        # MAPE\n",
    "        mape = np.round(mt.mean_absolute_percentage_error( y_test, y_pred_test), 3) \n",
    "        if mape < min_mape:\n",
    "            min_mape = mape\n",
    "    \n",
    "print('degree {} | alhpa {} | MAX R2: {} | MIN MSE: {} | MIN RMSE: {} | MIN MAE: {} | MIN MAPE: {} |'.format(i, alpha, max_r2, min_mse, min_rmse, min_mae, min_mape ) )"
   ]
  }
 ],
 "metadata": {
  "kernelspec": {
   "display_name": "Python 3 (ipykernel)",
   "language": "python",
   "name": "python3"
  },
  "language_info": {
   "codemirror_mode": {
    "name": "ipython",
    "version": 3
   },
   "file_extension": ".py",
   "mimetype": "text/x-python",
   "name": "python",
   "nbconvert_exporter": "python",
   "pygments_lexer": "ipython3",
   "version": "3.9.13"
  }
 },
 "nbformat": 4,
 "nbformat_minor": 4
}
