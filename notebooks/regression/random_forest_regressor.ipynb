{
 "cells": [
  {
   "cell_type": "markdown",
   "metadata": {},
   "source": [
    "# Ensaio de Machine Learning #"
   ]
  },
  {
   "cell_type": "markdown",
   "metadata": {},
   "source": [
    "## 0.0 Import library ##\n"
   ]
  },
  {
   "cell_type": "code",
   "execution_count": 22,
   "metadata": {},
   "outputs": [],
   "source": [
    "import pandas as pd\n",
    "import numpy as np\n",
    "from sklearn.ensemble import RandomForestRegressor\n",
    "from sklearn import metrics as mt"
   ]
  },
  {
   "cell_type": "markdown",
   "metadata": {},
   "source": [
    "## 1.0 Load dataset ##"
   ]
  },
  {
   "cell_type": "code",
   "execution_count": 25,
   "metadata": {},
   "outputs": [],
   "source": [
    "x_train = pd.read_csv( '../../dataset/regression/x_training.csv')\n",
    "y_train = pd.read_csv( '../../dataset/regression/y_training.csv')\n",
    "x_val = pd.read_csv( '../../dataset/regression/x_validation.csv')\n",
    "y_val = pd.read_csv( '../../dataset/regression/y_val.csv')\n",
    "x_test = pd.read_csv( '../../dataset/regression/x_test.csv')\n",
    "y_test = pd.read_csv( '../../dataset/regression/y_test.csv')"
   ]
  },
  {
   "cell_type": "markdown",
   "metadata": {},
   "source": [
    "## 2.0 Training Model ##"
   ]
  },
  {
   "cell_type": "code",
   "execution_count": 28,
   "metadata": {},
   "outputs": [],
   "source": [
    "y_train = y_train.values.ravel()\n",
    "y_val = y_val.values.ravel()"
   ]
  },
  {
   "cell_type": "markdown",
   "metadata": {},
   "source": [
    "## Dados de treino ##"
   ]
  },
  {
   "cell_type": "code",
   "execution_count": 31,
   "metadata": {},
   "outputs": [
    {
     "name": "stdout",
     "output_type": "stream",
     "text": [
      "MAX R2: 0.899\n",
      "MIN MSE: 48.117\n",
      "MIN RMSE: 6.937\n",
      "MIN MAE: 4.919\n",
      "MIN MAPE: 2.535\n"
     ]
    }
   ],
   "source": [
    "m = np.arange( 1, 41, 1)\n",
    "mse_list = []\n",
    "max_r2 = 0\n",
    "min_mse = float('inf')\n",
    "min_rmse = float('inf')\n",
    "min_mae = float('inf')\n",
    "min_mape = float('inf')\n",
    "\n",
    "for i in m:\n",
    "    # definition\n",
    "    model = RandomForestRegressor(max_depth=i, n_estimators=50)\n",
    "\n",
    "    # training\n",
    "    model.fit( x_train, y_train )\n",
    "\n",
    "    # performance\n",
    "    y_pred = model.predict( x_train )\n",
    "\n",
    "    # R squared\n",
    "    r2_squared = np.round( mt.r2_score( y_train, y_pred ), 3 )\n",
    "    if r2_squared > max_r2:\n",
    "        max_r2 = r2_squared\n",
    "    # MSE\n",
    "    mse = np.round(mt.mean_squared_error( y_train, y_pred), 3)\n",
    "    mse_list.append( mse )\n",
    "    if mse < min_mse:\n",
    "        min_mse = mse\n",
    "    # RMSE\n",
    "    rmse = np.round(np.sqrt( mse ), 3)\n",
    "    if rmse < min_rmse:\n",
    "        min_rmse = rmse\n",
    "\n",
    "    # MAE\n",
    "    mae = np.round(mt.mean_absolute_error( y_train, y_pred), 3)\n",
    "    if mae < min_mae:\n",
    "        min_mae = mae\n",
    "    # MAPE\n",
    "    mape = np.round(mt.mean_absolute_percentage_error( y_train, y_pred), 3) \n",
    "    if mape < min_mape:\n",
    "        min_mape = mape\n",
    "\n",
    "print( 'MAX R2: {}'.format( max_r2 ) )\n",
    "print('MIN MSE: {}'.format( min_mse ) )   \n",
    "print('MIN RMSE: {}'.format( min_rmse ) )\n",
    "print('MIN MAE: {}'.format( min_mae ) )\n",
    "print('MIN MAPE: {}'.format( min_mape ) )"
   ]
  },
  {
   "cell_type": "markdown",
   "metadata": {},
   "source": [
    "## Dados de validação ##"
   ]
  },
  {
   "cell_type": "code",
   "execution_count": 33,
   "metadata": {},
   "outputs": [
    {
     "name": "stdout",
     "output_type": "stream",
     "text": [
      "R2: 0.331\n",
      "MSE: 319.605\n",
      "RMSE: 17.877\n",
      "MAE: 13.056\n",
      "MAPE: 7.089\n"
     ]
    }
   ],
   "source": [
    "# Retreinando o modelo com o melhor parâmetro sobre os dados de validação\n",
    "best_m = mse_list.index( min ( mse_list ) )\n",
    "\n",
    "# definition\n",
    "model = RandomForestRegressor( max_depth=m[best_m] )\n",
    "\n",
    "# training\n",
    "model.fit( x_train, y_train )\n",
    "\n",
    "# performance\n",
    "yhat_val = model.predict( x_val )\n",
    "\n",
    "# R squared\n",
    "r2_squared = np.round( mt.r2_score( y_val, yhat_val ), 3 )\n",
    "# MSE\n",
    "mse = np.round(mt.mean_squared_error( y_val, yhat_val), 3)\n",
    "# RMSE\n",
    "rmse = np.round(np.sqrt( mse ), 3)\n",
    "# MAE\n",
    "mae = np.round(mt.mean_absolute_error( y_val, yhat_val), 3)\n",
    "# MAPE\n",
    "mape = np.round(mt.mean_absolute_percentage_error( y_val, yhat_val ), 3) \n",
    "\n",
    "print( 'R2: {}'.format( r2_squared ) )\n",
    "print('MSE: {}'.format( mse ) )   \n",
    "print('RMSE: {}'.format( rmse ) )\n",
    "print('MAE: {}'.format( mae ) )\n",
    "print('MAPE: {}'.format( mape ) )"
   ]
  },
  {
   "cell_type": "markdown",
   "metadata": {},
   "source": [
    "## Dados de teste ##\n"
   ]
  },
  {
   "cell_type": "code",
   "execution_count": 35,
   "metadata": {},
   "outputs": [
    {
     "name": "stdout",
     "output_type": "stream",
     "text": [
      "R2: 0.407\n",
      "MSE: 288.738\n",
      "RMSE: 16.992\n",
      "MAE: 12.183\n",
      "MAPE: 6.266\n"
     ]
    },
    {
     "name": "stderr",
     "output_type": "stream",
     "text": [
      "C:\\Users\\uemer\\anaconda3\\lib\\site-packages\\sklearn\\base.py:443: UserWarning: X has feature names, but RandomForestRegressor was fitted without feature names\n",
      "  warnings.warn(\n"
     ]
    }
   ],
   "source": [
    "# Retreinando o modelo com o melhor parâmetro sobre os dados de teste\n",
    "\n",
    "best_m = mse_list.index( min ( mse_list ) )\n",
    "\n",
    "# definition\n",
    "model = RandomForestRegressor( max_depth=m[best_m] )\n",
    "\n",
    "# training\n",
    "model.fit( np.concatenate( ( x_train, x_val ) ),\n",
    "           np.concatenate( ( y_train, y_val ) ) ) \n",
    "\n",
    "# performance\n",
    "yhat_test = model.predict( x_test )\n",
    "\n",
    "# R squared\n",
    "r2_squared = np.round( mt.r2_score( y_test, yhat_test ), 3 )\n",
    "# MSE\n",
    "mse = np.round(mt.mean_squared_error( y_test, yhat_test), 3)\n",
    "# RMSE\n",
    "rmse = np.round(np.sqrt( mse ), 3)\n",
    "# MAE\n",
    "mae = np.round(mt.mean_absolute_error( y_test, yhat_test), 3)\n",
    "# MAPE\n",
    "mape = np.round(mt.mean_absolute_percentage_error( y_test, yhat_test ), 3) \n",
    "\n",
    "print( 'R2: {}'.format( r2_squared ) )\n",
    "print('MSE: {}'.format( mse ) )   \n",
    "print('RMSE: {}'.format( rmse ) )\n",
    "print('MAE: {}'.format( mae ) )\n",
    "print('MAPE: {}'.format( mape ) )"
   ]
  }
 ],
 "metadata": {
  "kernelspec": {
   "display_name": "Python 3 (ipykernel)",
   "language": "python",
   "name": "python3"
  },
  "language_info": {
   "codemirror_mode": {
    "name": "ipython",
    "version": 3
   },
   "file_extension": ".py",
   "mimetype": "text/x-python",
   "name": "python",
   "nbconvert_exporter": "python",
   "pygments_lexer": "ipython3",
   "version": "3.9.13"
  }
 },
 "nbformat": 4,
 "nbformat_minor": 4
}
